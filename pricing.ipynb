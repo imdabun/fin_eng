{
 "cells": [
  {
   "cell_type": "code",
   "execution_count": 1,
   "id": "be273bf3-b878-465f-9040-e019ed0894dd",
   "metadata": {},
   "outputs": [],
   "source": [
    "from param import Param\n",
    "from sde import *\n",
    "from fparam import *\n",
    "import numpy as np\n",
    "import math\n",
    "from matplotlib import pyplot as plt"
   ]
  },
  {
   "cell_type": "code",
   "execution_count": null,
   "id": "c66f1ef3-da08-452b-9f38-254430f31687",
   "metadata": {},
   "outputs": [],
   "source": [
    "# First we calibrate using the heston model\n",
    "params = {\n",
    "    \"h_0\"  : Param(.11/math.sqrt(21)),\n",
    "    \"theta\": Param(),\n",
    "    \"rho\"  : Param(),\n",
    "    \"kappa\": Param(),\n",
    "    \"xi\"   : Param(),\n",
    "    \"dt\"   : Param(1/252),\n",
    "    \"r\"    : Param(0.0411/252),\n",
    "    \"S_0\"  : Param(100)\n",
    "}\n",
    "\n",
    "# Model functions\n",
    "def feller(params):\n",
    "    k     = params[\"kappa\"].eval()\n",
    "    theta = params[\"theta\"].eval()\n",
    "    xi    = params[\"xi\"].eval()\n",
    "    return 2 * k * theta > xi * xi\n",
    "\n",
    "def mu_h(h_t, t, params=None):\n",
    "    k = params[\"kappa\"].eval()\n",
    "    theta = params[\"theta\"].eval()\n",
    "    return k * (theta - h_t)\n",
    "\n",
    "def v_h(h_t, t, params=None):\n",
    "    xi = params[\"xi\"].eval()\n",
    "    return xi * math.sqrt(max(h_t, 0.))\n",
    "\n",
    "def mu(S_t, t, params=None):\n",
    "    r = params[\"r\"].eval()\n",
    "    return r * S_t\n",
    "\n",
    "def v(S_t, t, cir, params=None):\n",
    "    vol = cir.nodes[t-1].eval()\n",
    "    return math.sqrt(max(vol, 0.)) * S_t\n",
    "\n",
    "drift_h  = FParam(mu_h, params)\n",
    "vol_h    = FParam(v_h, params)\n",
    "T   = 252\n",
    "N   = 10000\n",
    "\n",
    "cir_sim = EulerSimulation(drift_h, vol_h, params[\"h_0\"], T, params[\"dt\"], N)\n",
    "\n",
    "drift_s = FParam(mu, params)\n",
    "vol_s   = FParam(v, params)\n",
    "\n",
    "simulation = StochVolSimulation(drift_s, vol_s, params[\"S_0\"], cir_sim, T, params[\"dt\"], N, rho=params[\"rho\"].eval())"
   ]
  },
  {
   "cell_type": "code",
   "execution_count": null,
   "id": "18a4c755-015a-44da-82ba-808ddc2da511",
   "metadata": {},
   "outputs": [],
   "source": [
    "def plot_sims(cir_sim, simulation):\n",
    "    for i in range(N):\n",
    "        plt.plot(cir_sim.results[:, i])\n",
    "    plt.xlabel(\"Timesteps (252 total)\")\n",
    "    plt.ylabel(\"Daily Volatility\")\n",
    "    plt.title(\"Volatility Simulation\")\n",
    "    plt.show()\n",
    "\n",
    "    for i in range(N):\n",
    "        plt.plot(simulation.results[:, i])\n",
    "    plt.xlabel(\"Timesteps (252 total)\")\n",
    "    plt.ylabel(\"Index Price\")\n",
    "    plt.title(\"Index Price Simulation\")\n",
    "    plt.show()\n",
    "\n",
    "def run_sims(cir_sim, simulation):\n",
    "    cir_sim.run_all()\n",
    "    simulation.run_all()"
   ]
  },
  {
   "cell_type": "code",
   "execution_count": null,
   "id": "5a6d0f3d-7e12-4560-8f95-497f98dda68f",
   "metadata": {},
   "outputs": [],
   "source": []
  },
  {
   "cell_type": "code",
   "execution_count": null,
   "id": "de49149b-d4ca-4143-bbfe-327627fe0566",
   "metadata": {},
   "outputs": [],
   "source": []
  }
 ],
 "metadata": {
  "kernelspec": {
   "display_name": "Python 3",
   "language": "python",
   "name": "python3"
  },
  "language_info": {
   "codemirror_mode": {
    "name": "ipython",
    "version": 3
   },
   "file_extension": ".py",
   "mimetype": "text/x-python",
   "name": "python",
   "nbconvert_exporter": "python",
   "pygments_lexer": "ipython3",
   "version": "3.9.12"
  }
 },
 "nbformat": 4,
 "nbformat_minor": 5
}
