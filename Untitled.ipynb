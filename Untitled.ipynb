{
 "cells": [
  {
   "cell_type": "code",
   "execution_count": 1,
   "id": "3faa01be-38de-4038-aae5-296930278b8f",
   "metadata": {},
   "outputs": [],
   "source": [
    "# Import the libraries , !pip install \"library\" for first time installing\n",
    "import pandas as pd\n",
    "import numpy as np\n",
    "import matplotlib.pyplot as plt\n",
    "from datetime import datetime \n",
    "import random\n",
    "from math import sqrt, exp\n",
    "\n",
    "# Pricing option using heston can be done with the package 'QuantLib'\n",
    "#!pip install QuantLib\n",
    "import QuantLib as ql"
   ]
  },
  {
   "cell_type": "code",
   "execution_count": 2,
   "id": "770bb11f-2493-41e8-831e-9d211953d9a8",
   "metadata": {},
   "outputs": [],
   "source": [
    "day_count = ql.Actual365Fixed()\n",
    "calendar = ql.UnitedStates()\n",
    "\n",
    "calculation_date = ql.Date(1, 1, 2015)\n",
    "\n",
    "spot = 100\n",
    "ql.Settings.instance().evaluationDate = calculation_date\n",
    "\n",
    "dividend_yield = ql.QuoteHandle(ql.SimpleQuote(0.0))\n",
    "risk_free_rate = 0.0411\n",
    "dividend_rate = 0.0\n",
    "flat_ts = ql.YieldTermStructureHandle(\n",
    "    ql.FlatForward(calculation_date, risk_free_rate, day_count))\n",
    "dividend_ts = ql.YieldTermStructureHandle(\n",
    "    ql.FlatForward(calculation_date, dividend_rate, day_count))"
   ]
  },
  {
   "cell_type": "code",
   "execution_count": 3,
   "id": "24ea1dd2-b430-44d8-9f52-72681e1cd72a",
   "metadata": {},
   "outputs": [],
   "source": [
    "# dummy parameters\n",
    "v0 = 0.024; kappa = 0.2; theta = 0.02; rho = -0.75; sigma = 0.5;\n",
    "\n",
    "process = ql.HestonProcess(flat_ts, dividend_ts, \n",
    "                           ql.QuoteHandle(ql.SimpleQuote(spot)), \n",
    "                           v0, kappa, theta, sigma, rho)\n",
    "model = ql.HestonModel(process)\n",
    "engine = ql.AnalyticHestonEngine(model) "
   ]
  },
  {
   "cell_type": "code",
   "execution_count": 4,
   "id": "1d20af60-2718-4b61-8d0a-ea9c37edd20e",
   "metadata": {},
   "outputs": [],
   "source": [
    "targets = {\n",
    "    ql.Date(1, 4, 2015): {95: 6.5757, 100: 2.8223, 105: 0.6335},\n",
    "    ql.Date(1, 7, 2015): {95: 8.1165, 100: 4.3850, 105: 1.7263},\n",
    "    ql.Date(1, 10, 2015): {100: 6.0865, 105: 3.1820, 110: 1.2347},\n",
    "    ql.Date(1, 1, 2016): {100: 7.7710, 105: 4.7369, 110: 2.4165}\n",
    "}\n",
    "\n",
    "vols = {\n",
    "    ql.Date(1, 4, 2015): {95: 0.1323, 100: 0.1149, 105: 0.0994},\n",
    "    ql.Date(1, 7, 2015): {95: 0.1345, 100: 0.1174, 105: 0.103},\n",
    "    ql.Date(1, 10, 2015): {100: 0.13, 105: 0.116, 110: 0.102},\n",
    "    ql.Date(1, 1, 2016): {100: 0.1410, 105: 0.128, 110: 0.114}\n",
    "}"
   ]
  },
  {
   "cell_type": "code",
   "execution_count": 5,
   "id": "db201584-e11e-4ef9-90d1-ee567fc44b85",
   "metadata": {},
   "outputs": [],
   "source": [
    "heston_helpers = []\n",
    "for t_date in vols:\n",
    "    for strike in vols[t_date]:\n",
    "        t = t_date - calculation_date\n",
    "        p = ql.Period(t, ql.Days)\n",
    "        helper = ql.HestonModelHelper(p, calendar, spot, strike, \n",
    "                                      ql.QuoteHandle(ql.SimpleQuote(vols[t_date][strike])),\n",
    "                                      flat_ts, \n",
    "                                      dividend_ts)\n",
    "        helper.setPricingEngine(engine)\n",
    "        heston_helpers.append(helper)"
   ]
  },
  {
   "cell_type": "code",
   "execution_count": 6,
   "id": "2cb74165-91ce-4e91-8f53-627eb166493b",
   "metadata": {},
   "outputs": [],
   "source": [
    "lm = ql.LevenbergMarquardt(1e-8, 1e-8, 1e-8)\n",
    "model.calibrate(heston_helpers, lm, \n",
    "                 ql.EndCriteria(500, 50, 1.0e-8,1.0e-8, 1.0e-8))\n",
    "theta, kappa, sigma, rho, v0 = model.params()"
   ]
  },
  {
   "cell_type": "code",
   "execution_count": 7,
   "id": "50bb85cb-8aef-4780-aa38-7598cb86d8b0",
   "metadata": {},
   "outputs": [
    {
     "name": "stdout",
     "output_type": "stream",
     "text": [
      "theta = 0.906697, kappa = 0.013170, sigma = 0.241603, rho = -0.674830, v0 = 0.011461\n"
     ]
    }
   ],
   "source": [
    "print(\"theta = %f, kappa = %f, sigma = %f, rho = %f, v0 = %f\" % (theta, kappa, sigma, rho, v0))"
   ]
  },
  {
   "cell_type": "code",
   "execution_count": null,
   "id": "27c4e62c-f29f-4dfc-8efa-f026d87df525",
   "metadata": {},
   "outputs": [],
   "source": []
  }
 ],
 "metadata": {
  "kernelspec": {
   "display_name": "Python 3",
   "language": "python",
   "name": "python3"
  },
  "language_info": {
   "codemirror_mode": {
    "name": "ipython",
    "version": 3
   },
   "file_extension": ".py",
   "mimetype": "text/x-python",
   "name": "python",
   "nbconvert_exporter": "python",
   "pygments_lexer": "ipython3",
   "version": "3.9.12"
  }
 },
 "nbformat": 4,
 "nbformat_minor": 5
}
