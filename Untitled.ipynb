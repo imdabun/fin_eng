{
 "cells": [
  {
   "cell_type": "code",
   "execution_count": 7,
   "id": "3faa01be-38de-4038-aae5-296930278b8f",
   "metadata": {},
   "outputs": [],
   "source": [
    "# Import the libraries , !pip install \"library\" for first time installing\n",
    "import pandas as pd\n",
    "import numpy as np\n",
    "import matplotlib.pyplot as plt\n",
    "from datetime import datetime \n",
    "import random\n",
    "from math import sqrt, exp\n",
    "\n",
    "# Pricing option using heston can be done with the package 'QuantLib'\n",
    "#!pip install QuantLib\n",
    "import QuantLib as ql"
   ]
  },
  {
   "cell_type": "code",
   "execution_count": 8,
   "id": "770bb11f-2493-41e8-831e-9d211953d9a8",
   "metadata": {},
   "outputs": [],
   "source": [
    "# set the style for graphs\n",
    "plt.rcParams[\"figure.figsize\"] = (10, 7)\n",
    "plt.style.use('seaborn-darkgrid')"
   ]
  },
  {
   "cell_type": "code",
   "execution_count": 9,
   "id": "5ec744e7-59e8-47a2-83d6-98e40524b181",
   "metadata": {},
   "outputs": [],
   "source": [
    "# Payoff function inputs are option type and strike price\n",
    "strike_price = 100\n",
    "option_type = ql.Option.Call\n",
    "\n",
    "call_payoff = ql.PlainVanillaPayoff(option_type, strike_price) \n",
    "\n",
    "# Exercise function takes maturity date of the option as input\n",
    "day_count = ql.Actual365Fixed()\n",
    "calendar = ql.UnitedStates()\n",
    "maturity = ql.Date(3, 8, 2021)\n",
    "today = ql.Date(4, 8,2020)\n",
    "\n",
    "call_exercise = ql.EuropeanExercise(maturity)\n",
    "\n",
    "# Function inputs are striked type payoff and exercise\n",
    "option = ql.VanillaOption(call_payoff, call_exercise)\n",
    "\n",
    "# Option input values\n",
    "spot_price = 105\n",
    "strike_price = 100\n",
    "yearly_historical_volatility = 0.1\n",
    "riskfree_rate = 0.0\n",
    "dividend = 0"
   ]
  },
  {
   "cell_type": "code",
   "execution_count": 10,
   "id": "65c24997-642d-42ef-bae9-15a0c22aec76",
   "metadata": {},
   "outputs": [],
   "source": [
    "variance = 0.11*0.11/252 # Initial variance is square of volatility\n",
    "kappa = 2       # Speed of mean reversion \n",
    "theta = 0.01    # Long-run variance\n",
    "epsilon = 0.1   # Volatility of volatility\n",
    "rho = 0.0       # Correlation  "
   ]
  },
  {
   "cell_type": "code",
   "execution_count": 11,
   "id": "3e8b565d-c2d7-4bb3-8873-c3b629321c2d",
   "metadata": {},
   "outputs": [],
   "source": [
    "initial_value = ql.QuoteHandle(ql.SimpleQuote(spot_price))\n",
    "\n",
    "# Setting up flat risk free curves\n",
    "discount_curve = ql.YieldTermStructureHandle(ql.FlatForward(today, riskfree_rate,day_count))\n",
    "dividend_yield = ql.YieldTermStructureHandle(ql.FlatForward(today, dividend, day_count))\n",
    "\n",
    "heston_process = ql.HestonProcess(discount_curve,dividend_yield, initial_value,variance,kappa,theta,epsilon,rho)"
   ]
  },
  {
   "cell_type": "code",
   "execution_count": 12,
   "id": "2cf68c41-be13-4daa-81d0-73a863f75dab",
   "metadata": {},
   "outputs": [
    {
     "name": "stdout",
     "output_type": "stream",
     "text": [
      "option_price 0.0\n"
     ]
    }
   ],
   "source": [
    "# Inputs used for the engine are model, Tolerance level, maximum evaluations\n",
    "engine = ql.AnalyticHestonEngine(ql.HestonModel(heston_process),0.001,1000)\n",
    "option.setPricingEngine(engine)\n",
    "price = option.NPV()\n",
    "print (\"option_price\", round(price,2))"
   ]
  },
  {
   "cell_type": "code",
   "execution_count": null,
   "id": "24ea1dd2-b430-44d8-9f52-72681e1cd72a",
   "metadata": {},
   "outputs": [],
   "source": []
  }
 ],
 "metadata": {
  "kernelspec": {
   "display_name": "Python 3",
   "language": "python",
   "name": "python3"
  },
  "language_info": {
   "codemirror_mode": {
    "name": "ipython",
    "version": 3
   },
   "file_extension": ".py",
   "mimetype": "text/x-python",
   "name": "python",
   "nbconvert_exporter": "python",
   "pygments_lexer": "ipython3",
   "version": "3.9.12"
  }
 },
 "nbformat": 4,
 "nbformat_minor": 5
}
