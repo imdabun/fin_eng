{
 "cells": [
  {
   "cell_type": "code",
   "execution_count": 1,
   "id": "bcb642ca-b12e-4df7-8b6e-ffd22454cdb9",
   "metadata": {},
   "outputs": [],
   "source": [
    "import numpy as np\n",
    "import pandas as pd\n",
    "from matplotlib import pyplot as plt\n",
    "from scipy import optimize\n",
    "import math"
   ]
  },
  {
   "cell_type": "code",
   "execution_count": 2,
   "id": "bd338034-722b-4d71-a571-5d27a568ed94",
   "metadata": {},
   "outputs": [],
   "source": [
    "USD_EUR = np.array([ 1.0432, 1.0468, 1.0584, 1.0734, 1.0810, 1.0822, 1.0769, 1.0760,\\\n",
    "            1.0781, 1.0940, 1.0940, 1.0597, 1.0693, 1.0804, 1.0716, 1.0837,\\\n",
    "            1.0970, 1.1126, 1.1384, 1.1512, 1.1721, 1.1813, 1.1745, 1.1759,\\\n",
    "            1.1732, 1.1500, 1.1506, 1.1324, 1.1230, 1.1422, 1.1363, 1.1357,\\\n",
    "            1.1297, 1.1040, 1.0916, 1.0922, 1.1201, 1.1260, 1.1480, 1.1651,\\\n",
    "            1.1761, 1.1668, 1.1757, 1.1686, 1.1471, 1.1654, 1.1872, 1.1873,\\\n",
    "            1.2072, 1.2223, 1.2352, 1.2429, 1.2549, 1.2748, 1.2649, 1.2580,\\\n",
    "            1.2531, 1.2567, 1.2756, 1.2739, 1.2528, 1.2274, 1.2297, 1.2273,\\\n",
    "            1.2233])\n",
    "\n",
    "haz_rate = np.array([0.0010, 0.0009, 0.0006, 0.0007, 0.0010, 0.0014, 0.0022, 0.0003,\\\n",
    "            0.0004, 0.0007, 0.0005, 0.0005, 0.0003, 0.0003, 0.0004, 0.0004,\\\n",
    "            0.0003, 0.0004, 0.0005, 0.0006, 0.0006, 0.0006, 0.0006, 0.0010,\\\n",
    "            0.0010, 0.0009, 0.0008, 0.0013, 0.0016, 0.0017, 0.0012, 0.0018,\\\n",
    "            0.0007, 0.0008, 0.0011, 0.0018, 0.0016, 0.0012, 0.0014, 0.0011,\\\n",
    "            0.0014, 0.0006, 0.0005, 0.0004, 0.0005, 0.0006, 0.0007, 0.0007,\\\n",
    "            0.0012, 0.0005, 0.0005, 0.0023, 0.0050, 0.0030, 0.0063, 0.0080,\\\n",
    "            0.0089, 0.0111, 0.0125, 0.0045, 0.0031, 0.0044, 0.0053, 0.0072,\\\n",
    "            0.0050])"
   ]
  },
  {
   "cell_type": "code",
   "execution_count": 3,
   "id": "3903ead4-eab9-4c4d-8f5e-83a0e0b9bab5",
   "metadata": {},
   "outputs": [],
   "source": [
    "YEAR = 52\n",
    "IR   = [0.0122, 0.0198, 0.0274, 0.0302, 0.035]\n",
    "dt = 1/YEAR\n",
    "QUARTER = YEAR // 4\n",
    "ALPHA = 0.8\n",
    "SIGMA = 1.2\n",
    "h_0   = 0.0083696\n",
    "R     = 0.4\n",
    "N_SIM = 10000"
   ]
  },
  {
   "cell_type": "code",
   "execution_count": 4,
   "id": "8bb53a56-9cfa-431b-bd60-ea79e9bea06e",
   "metadata": {},
   "outputs": [],
   "source": [
    "IR_curve = [np.exp(-IR[1] * i / YEAR) for i in range(YEAR)] + \\\n",
    "           [np.exp(-IR[1]-IR[2] * i / YEAR) for i in range(YEAR)] + \\\n",
    "           [np.exp(-IR[1]-IR[2]-IR[3] * i / YEAR) for i in range(YEAR)] + \\\n",
    "           [np.exp(-IR[1]-IR[2]-IR[3]-IR[4] * i / YEAR) for i in range(YEAR)]\n",
    "\n",
    "Z = np.random.normal(size=(4 * YEAR, N_SIM))\n",
    "SPREADS = [0.0055, 0.005668627, 0.005784314, 0.0059]"
   ]
  },
  {
   "cell_type": "code",
   "execution_count": 5,
   "id": "1778a232-2f31-4865-8384-226027aeea69",
   "metadata": {},
   "outputs": [],
   "source": [
    "def discount(t, max_len):\n",
    "    return IR_curve[t] if t < max_len else 0\n",
    "\n",
    "def value(t, T, spread, R):\n",
    "    n_payments = t // YEAR + 1\n",
    "    return (1 - R) * discount(t, T) - sum([discount(i * YEAR, T) * spread for i in range(n_payments)])\n",
    "\n",
    "def simulate(Z, alpha, sigma, h_0, thetas): # thetas = [theta_1, theta_2]\n",
    "    # we have existing thetas, simulate for one more year\n",
    "    _, N = Z.shape\n",
    "    T = len(thetas) * YEAR\n",
    "    results = np.empty([T, N])\n",
    "    h_t  = np.full(N, h_0)\n",
    "    for i, theta in enumerate(thetas):\n",
    "        for j in range(YEAR):\n",
    "            t = i * YEAR + j\n",
    "            results[t, :] = h_t + alpha * (theta - h_t) * dt + sigma * h_t * math.sqrt(dt) * Z[t, :]\n",
    "            h_t = results[t, :]\n",
    "    return results\n",
    "\n",
    "def sim_defaults(results):\n",
    "    T, N = results.shape\n",
    "    bern = np.random.binomial(1, results*dt)\n",
    "    def default_fn(arr):\n",
    "        out = np.argmax(arr)\n",
    "        if out == 0 and arr[0] == 0:\n",
    "            return len(arr)\n",
    "        else: return out\n",
    "    return np.apply_along_axis(default_fn, 0, bern), T\n",
    "\n",
    "def rn_pricing(defaults, T, spread, R):\n",
    "    return np.array(list(map(lambda t: value(t, T, spread, R), defaults)))"
   ]
  },
  {
   "cell_type": "code",
   "execution_count": 6,
   "id": "02936f9a-e8ff-414b-a0cc-bb53b50da9d1",
   "metadata": {},
   "outputs": [],
   "source": [
    "EPS = 1e-6\n",
    "\n",
    "def bin_search(lo, hi, thetas, spread, it, R):\n",
    "    it += 1\n",
    "    guess  = lo + (hi - lo)/2\n",
    "    results = simulate(Z, ALPHA, SIGMA, h_0, thetas + [guess])\n",
    "    trials = np.empty(10)\n",
    "    for i in range(10):\n",
    "        defaults, T = sim_defaults(results)\n",
    "        pricing = rn_pricing(defaults, T, spread, R).mean()\n",
    "        trials[i] = pricing\n",
    "    pricing = trials.mean()\n",
    "    if abs(pricing) < EPS or it > 1000:\n",
    "        return guess\n",
    "    elif pricing < 0:\n",
    "        return bin_search(guess, hi, thetas, spread, it, R)\n",
    "    else:\n",
    "        return bin_search(lo, guess, thetas, spread, it, R)"
   ]
  },
  {
   "cell_type": "code",
   "execution_count": 7,
   "id": "709a2431-8960-469f-80c9-834d3a66479b",
   "metadata": {},
   "outputs": [
    {
     "name": "stdout",
     "output_type": "stream",
     "text": [
      "Theta_1 calibrated to be 0.011852293096075071\n",
      "Theta_2 calibrated to be 0.009040766594021893\n",
      "Theta_3 calibrated to be 0.012600900100544096\n",
      "Theta_4 calibrated to be 0.010085810910103327\n"
     ]
    }
   ],
   "source": [
    "# Calibrate \n",
    "thetas = []\n",
    "guess  = 0.\n",
    "EPS    = 1e-6\n",
    "\n",
    "for y, spread in enumerate(SPREADS):\n",
    "    next_theta = bin_search(1e-3, 5e-2, thetas, spread, 0, R)\n",
    "    print(f\"Theta_{y+1} calibrated to be {next_theta}\")\n",
    "    thetas += [next_theta]"
   ]
  },
  {
   "cell_type": "code",
   "execution_count": 11,
   "id": "b4a38448-9e70-4cf9-b9d4-7762fbde7f86",
   "metadata": {},
   "outputs": [],
   "source": [
    "def bin_search_h(lo, hi, thetas, spread, it, R):\n",
    "    it += 1\n",
    "    guess  = lo + (hi - lo)/2\n",
    "    results = simulate(Y, ALPHA, SIGMA, guess, thetas)\n",
    "    trials = np.empty(10)\n",
    "    for i in range(10):\n",
    "        defaults, T = sim_defaults(results)\n",
    "        pricing = rn_pricing(defaults, T, spread, R).mean()\n",
    "        trials[i] = pricing\n",
    "    pricing = trials.mean()\n",
    "    if abs(pricing) < EPS or it > 1000:\n",
    "        return guess\n",
    "    elif pricing < 0:\n",
    "        return bin_search(guess, hi, thetas, spread, it, R)\n",
    "    else:\n",
    "        return bin_search(lo, guess, thetas, spread, it, R)"
   ]
  },
  {
   "cell_type": "code",
   "execution_count": 9,
   "id": "7b900879-1ee2-4c98-ad7d-8cc85305ea25",
   "metadata": {},
   "outputs": [],
   "source": [
    "lock_thetas = thetas"
   ]
  },
  {
   "cell_type": "code",
   "execution_count": 42,
   "id": "6b8c0085-de49-4909-bc37-e624b7cdc0b4",
   "metadata": {},
   "outputs": [],
   "source": [
    "SPREADS_A = [0.0042, 0.0046, 0.0049, 0.005, 0.0051]"
   ]
  },
  {
   "cell_type": "code",
   "execution_count": null,
   "id": "f191e40d-c78a-41a1-9344-9e616fd66cd6",
   "metadata": {},
   "outputs": [],
   "source": [
    "h_s = []\n",
    "for y, spread in enumerate(SPREADS_A):\n",
    "    next_h = bin_search_h(1e-3, 5e-2, thetas[:y+1], spread, 0, 0.3)\n",
    "    print(\"Next h calibrated to be \", next_h)\n",
    "    h_s.append(next_h)"
   ]
  },
  {
   "cell_type": "code",
   "execution_count": null,
   "id": "128f7293-bfb8-4872-88c1-8211f32ece6e",
   "metadata": {},
   "outputs": [],
   "source": []
  }
 ],
 "metadata": {
  "kernelspec": {
   "display_name": "Python 3",
   "language": "python",
   "name": "python3"
  },
  "language_info": {
   "codemirror_mode": {
    "name": "ipython",
    "version": 3
   },
   "file_extension": ".py",
   "mimetype": "text/x-python",
   "name": "python",
   "nbconvert_exporter": "python",
   "pygments_lexer": "ipython3",
   "version": "3.9.12"
  }
 },
 "nbformat": 4,
 "nbformat_minor": 5
}
