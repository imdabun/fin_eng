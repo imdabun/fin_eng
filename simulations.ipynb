{
 "cells": [
  {
   "cell_type": "code",
   "execution_count": 1,
   "id": "7f2e9a01-387f-4599-a657-06d6d4026bdf",
   "metadata": {},
   "outputs": [],
   "source": [
    "from param import Param\n",
    "from sde import *\n",
    "from fparam import *\n",
    "import numpy as np\n",
    "import math\n",
    "from matplotlib import pyplot as plt"
   ]
  },
  {
   "cell_type": "code",
   "execution_count": 2,
   "id": "f90478dc-3fbb-47a1-8fdf-057f8b0fd599",
   "metadata": {},
   "outputs": [],
   "source": [
    "# First we calibrate using the heston model\n",
    "params = {\n",
    "    \"h_0\"  : Param(.11/math.sqrt(21)),\n",
    "    \"theta\": Param(.17/math.sqrt(252)),\n",
    "    \"rho\"  : Param(0.4),\n",
    "    \"kappa\": Param(.2),\n",
    "    \"xi\"   : Param(1.2),\n",
    "    \"dt\"   : Param(1/252),\n",
    "    \"r\"    : Param(0.0411/252),\n",
    "    \"S_0\"  : Param(100)\n",
    "}\n",
    "\n",
    "# Model functions\n",
    "def feller(params):\n",
    "    k     = params[\"kappa\"].eval()\n",
    "    theta = params[\"theta\"].eval()\n",
    "    xi    = params[\"xi\"].eval()\n",
    "    return 2 * k * theta > xi * xi\n",
    "\n",
    "def mu_h(h_t, t, params=None):\n",
    "    k = params[\"kappa\"].eval()\n",
    "    theta = params[\"theta\"].eval()\n",
    "    return k * (theta - h_t)\n",
    "\n",
    "def v_h(h_t, t, params=None):\n",
    "    xi = params[\"xi\"].eval()\n",
    "    return xi * math.sqrt(max(h_t, 0.))\n",
    "\n",
    "def mu(S_t, t, params=None):\n",
    "    r = params[\"r\"].eval()\n",
    "    return r * S_t\n",
    "\n",
    "def v(S_t, t, cir, params=None):\n",
    "    vol = cir.nodes[t-1].eval()\n",
    "    return math.sqrt(max(vol, 0.)) * S_t\n",
    "\n",
    "drift_h  = FParam(mu_h, params)\n",
    "vol_h    = FParam(v_h, params)\n",
    "T   = 252\n",
    "N   = 500\n",
    "\n",
    "cir_sim = EulerSimulation(drift_h, vol_h, params[\"h_0\"], T, params[\"dt\"], N)\n",
    "\n",
    "drift_s = FParam(mu, params)\n",
    "vol_s   = FParam(v, params)\n",
    "\n",
    "simulation = StochVolSimulation(drift_s, vol_s, params[\"S_0\"], cir_sim, T, params[\"dt\"], N, rho=0.4)"
   ]
  },
  {
   "cell_type": "code",
   "execution_count": 3,
   "id": "2d671d7e-f7f2-4990-a991-a9ee8d9ca682",
   "metadata": {},
   "outputs": [],
   "source": [
    "targets = {\n",
    "    1: {95: 6.5757, 100: 2.8223, 105: 0.6335},\n",
    "    2: {95: 8.1165, 100: 4.3850, 105: 1.7263},\n",
    "    3: {100: 6.0865, 105: 3.1820, 110: 1.2347},\n",
    "    4: {100: 7.7710, 105: 4.7369, 110: 2.4165}\n",
    "}\n",
    "\n",
    "def plot_sims(cir_sim, simulation):\n",
    "    for i in range(N):\n",
    "        plt.plot(cir_sim.results[:, i])\n",
    "    plt.xlabel(\"Timesteps (252 total)\")\n",
    "    plt.ylabel(\"Daily Volatility\")\n",
    "    plt.title(\"Volatility Simulation\")\n",
    "    plt.show()\n",
    "\n",
    "    for i in range(N):\n",
    "        plt.plot(simulation.results[:, i])\n",
    "    plt.xlabel(\"Timesteps (252 total)\")\n",
    "    plt.ylabel(\"Index Price\")\n",
    "    plt.title(\"Index Price Simulation\")\n",
    "    plt.show()\n",
    "    \n",
    "def call_price(result, targets, r):\n",
    "    qt = T // 4\n",
    "    out = dict()\n",
    "    sse = 0.\n",
    "    for m in targets:\n",
    "        out[m] = dict()\n",
    "        for strike in targets[m]:\n",
    "            out[m][strike] = np.maximum((result[(qt*m), :] - strike), 0).mean() * np.exp(- r * qt * m)\n",
    "            sse += (out[m][strike] - targets[m][strike])**2\n",
    "    return out, sse\n",
    "\n",
    "def run_sims(cir_sim, simulation):\n",
    "    cir_sim.run_all()\n",
    "    simulation.run_all()"
   ]
  },
  {
   "cell_type": "code",
   "execution_count": null,
   "id": "1314fb1b-205e-4448-82c9-498ec513b638",
   "metadata": {},
   "outputs": [
    {
     "name": "stdout",
     "output_type": "stream",
     "text": [
      "Calibration 1/10 complete.\n",
      "Calibration 2/10 complete.\n",
      "Calibration 3/10 complete.\n",
      "Calibration 4/10 complete.\n",
      "Calibration 5/10 complete.\n",
      "Calibration 6/10 complete.\n"
     ]
    }
   ],
   "source": [
    "# Calibration\n",
    "step = 5\n",
    "theta_grid = np.linspace(0.02, 0.03, step)\n",
    "kappa_grid = np.linspace(10, 20, step)\n",
    "xi_grid    = np.linspace(0.00001, 0.0001, step)\n",
    "opt_comb   = None\n",
    "opt_sse    = -1.\n",
    "opt_out    = None\n",
    "ct = 0\n",
    "    \n",
    "for theta in theta_grid:\n",
    "    for kappa in kappa_grid:\n",
    "        ct += 1\n",
    "        for xi in xi_grid:\n",
    "            params[\"theta\"].val = theta\n",
    "            params[\"kappa\"].val = kappa\n",
    "            params[\"xi\"].val    = xi\n",
    "            if feller(params):\n",
    "                run_sims(cir_sim, simulation)\n",
    "                out, sse = call_price(simulation.results, targets, params[\"r\"].eval())\n",
    "                if opt_sse < 0. or sse < opt_sse:\n",
    "                    opt_sse = sse\n",
    "                    opt_comb = (theta, kappa, xi)\n",
    "                    opt_out = out\n",
    "    if ct % step == 0:\n",
    "        print(f\"Calibration {ct // step}/{step} complete.\")"
   ]
  },
  {
   "cell_type": "code",
   "execution_count": null,
   "id": "c434a114-9530-4893-bbc0-6a294922e0b7",
   "metadata": {},
   "outputs": [],
   "source": [
    "print(\"SSE: = \", sse)\n",
    "print(\"Optimal Combination = \", opt_comb)\n",
    "print(\"Call Prices = \", opt_out)"
   ]
  },
  {
   "cell_type": "code",
   "execution_count": null,
   "id": "4a67a16b-4fa5-4f0e-83c8-c4ab0c6164f9",
   "metadata": {},
   "outputs": [],
   "source": []
  }
 ],
 "metadata": {
  "kernelspec": {
   "display_name": "Python 3",
   "language": "python",
   "name": "python3"
  },
  "language_info": {
   "codemirror_mode": {
    "name": "ipython",
    "version": 3
   },
   "file_extension": ".py",
   "mimetype": "text/x-python",
   "name": "python",
   "nbconvert_exporter": "python",
   "pygments_lexer": "ipython3",
   "version": "3.9.12"
  }
 },
 "nbformat": 4,
 "nbformat_minor": 5
}
