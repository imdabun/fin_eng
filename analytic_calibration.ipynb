{
 "cells": [
  {
   "cell_type": "code",
   "execution_count": 1,
   "id": "27c4e62c-f29f-4dfc-8efa-f026d87df525",
   "metadata": {},
   "outputs": [],
   "source": [
    "import os\n",
    "import numpy as np\n",
    "import pandas as pd\n",
    "import matplotlib.pyplot as plt\n",
    "from scipy.optimize import minimize\n",
    "\n",
    "# Code taken from wonderful resource by Quantpy, only slightly renamed to only take \n",
    "# the necessary code snippets for our purposes\n",
    "# https://quantpy.com.au/stochastic-volatility-models/heston-model-calibration-to-option-prices/"
   ]
  },
  {
   "cell_type": "code",
   "execution_count": 2,
   "id": "e5c72072-ff84-4a70-8c96-debf51dde908",
   "metadata": {},
   "outputs": [],
   "source": [
    "def charFunc(z, S0, v0, kappa, theta, sigma, rho, lambd, tau, r):\n",
    "    a = kappa*theta\n",
    "    b = kappa+lambd\n",
    "    rspi = z*rho*sigma*1j\n",
    "    d = np.sqrt( (z*rho*sigma*1j - b)**2 + (z*1j+z**2)*sigma**2 )\n",
    "    # define g parameter given phi, b and d\n",
    "    g = (b-rspi+d)/(b-rspi-d)\n",
    "    # calculate characteristic function by components\n",
    "    exp1 = np.exp(r*z*1j*tau)\n",
    "    term2 = S0**(z*1j) * ( (1-g*np.exp(d*tau))/(1-g) )**(-2*a/sigma**2)\n",
    "    exp2 = np.exp(a*tau*(b-rspi+d)/sigma**2 + v0*(b-rspi+d)*( (1-np.exp(d*tau))/(1-g*np.exp(d*tau)) )/sigma**2)\n",
    "    return exp1*term2*exp2"
   ]
  },
  {
   "cell_type": "code",
   "execution_count": 3,
   "id": "529c8cf4-6680-4faa-b146-e6bccb404e49",
   "metadata": {},
   "outputs": [],
   "source": [
    "def hestonPrice(S0, K, v0, kappa, theta, sigma, rho, lambd, tau, r):\n",
    "    args = (S0, v0, kappa, theta, sigma, rho, lambd, tau, r)\n",
    "    \n",
    "    P, umax, N = 0, 100, 10000\n",
    "    dz=umax/N # partition size\n",
    "    for i in range(1,N):\n",
    "        z = dz * (2*i + 1)/2\n",
    "        numerator = np.exp(r*tau)*charFunc(z-1j,*args) - K * charFunc(z,*args)\n",
    "        denominator = 1j*z*K**(1j*z)\n",
    "        P += dz * numerator/denominator\n",
    "    return np.real((S0 - K*np.exp(-r*tau))/2 + P/np.pi)"
   ]
  },
  {
   "cell_type": "code",
   "execution_count": 4,
   "id": "b8a498ad-e98a-4c7a-ac98-9f31a47bb10c",
   "metadata": {},
   "outputs": [],
   "source": [
    "targets = {\n",
    "    1: {95: 6.5757, 100: 2.8223, 105: 0.6335},\n",
    "    2: {95: 8.1165, 100: 4.3850, 105: 1.7263},\n",
    "    3: {100: 6.0865, 105: 3.1820, 110: 1.2347},\n",
    "    4: {100: 7.7710, 105: 4.7369, 110: 2.4165}\n",
    "}"
   ]
  },
  {
   "cell_type": "code",
   "execution_count": 9,
   "id": "7901a8bf-1e39-42d0-a5db-93cd05bb5d75",
   "metadata": {},
   "outputs": [
    {
     "name": "stderr",
     "output_type": "stream",
     "text": [
      "/home/gany/miniconda3/lib/python3.9/site-packages/scipy/optimize/optimize.py:282: RuntimeWarning: Values in x were outside bounds during a minimize step, clipping to bounds\n",
      "  warnings.warn(\"Values in x were outside bounds during a \"\n",
      "<ipython-input-2-79388f6db6cc>:11: RuntimeWarning: overflow encountered in exp\n",
      "  exp2 = np.exp(a*tau*(b-rspi+d)/sigma**2 + v0*(b-rspi+d)*( (1-np.exp(d*tau))/(1-g*np.exp(d*tau)) )/sigma**2)\n",
      "<ipython-input-2-79388f6db6cc>:12: RuntimeWarning: invalid value encountered in multiply\n",
      "  return exp1*term2*exp2\n"
     ]
    },
    {
     "data": {
      "text/plain": [
       "(0.0121,\n",
       " 0.6581171606243393,\n",
       " 0.034490489997797344,\n",
       " 0.010000000000063259,\n",
       " -0.711475586337558,\n",
       " 0.6915084263343003)"
      ]
     },
     "execution_count": 9,
     "metadata": {},
     "output_type": "execute_result"
    }
   ],
   "source": [
    "S0 = 100\n",
    "r = 0.0411\n",
    "K = np.asarray([s for q in targets for s in targets[q]])\n",
    "tau = np.asarray([q*0.25 for q in targets for s in targets[q] ])\n",
    "P = np.asarray([targets[q][s] for q in targets for s in targets[q]])\n",
    "params = {\"v0\": {\"x0\": 0.01211, \"lbub\": [0.0121,0.01212]}, \n",
    "          \"kappa\": {\"x0\": 3, \"lbub\": [1e-3,5]},\n",
    "          \"theta\": {\"x0\": 0.05, \"lbub\": [1e-3,0.1]},\n",
    "          \"sigma\": {\"x0\": 0.3, \"lbub\": [1e-2,1]},\n",
    "          \"rho\": {\"x0\": -0.9, \"lbub\": [-1,-0.7]},\n",
    "          \"lambd\": {\"x0\": 0.03, \"lbub\": [0,1]},\n",
    "          }\n",
    "x0 = [param[\"x0\"] for key, param in params.items()]\n",
    "bnds = [param[\"lbub\"] for key, param in params.items()]\n",
    "\n",
    "def sse(x):\n",
    "    v0, kappa, theta, sigma, rho, lambd = [param for param in x]\n",
    "    err = np.sum( (P-hestonPrice(S0, K, v0, kappa, theta, sigma, rho, lambd, tau, r))**2 /len(P) )\n",
    "    return err\n",
    "\n",
    "result = minimize(sse, x0, tol = 1e-3, method='SLSQP', options={'maxiter': 1e4 }, bounds=bnds)\n",
    "v0, kappa, theta, sigma, rho, lambd = [param for param in result.x]\n",
    "v0, kappa, theta, sigma, rho, lambd"
   ]
  },
  {
   "cell_type": "code",
   "execution_count": 10,
   "id": "18c72483-8867-4584-b84e-ff7960a2d023",
   "metadata": {},
   "outputs": [],
   "source": [
    "heston_prices = hestonPrice(S0, K, v0, kappa, theta, sigma, rho, lambd, tau, r)"
   ]
  },
  {
   "cell_type": "code",
   "execution_count": 11,
   "id": "cddb72a8-b29b-403e-8bab-e6604c35d5eb",
   "metadata": {},
   "outputs": [
    {
     "data": {
      "text/plain": [
       "array([6.78178895, 2.90832777, 0.61800107, 8.53892305, 4.67042252,\n",
       "       1.88486886, 6.29411431, 3.22631565, 1.10767935, 7.86080954,\n",
       "       4.59584418, 2.13630139])"
      ]
     },
     "execution_count": 11,
     "metadata": {},
     "output_type": "execute_result"
    }
   ],
   "source": [
    "heston_prices"
   ]
  },
  {
   "cell_type": "code",
   "execution_count": 12,
   "id": "10f8e6ee-0854-48bd-a059-e545e09dcac2",
   "metadata": {},
   "outputs": [
    {
     "name": "stdout",
     "output_type": "stream",
     "text": [
      "h_0 =  0.0121\n",
      "rho =  -0.711475586337558\n",
      "kappa =  1.3496255869586395\n",
      "theta =  0.01681857810434961\n",
      "xi =  0.010000000000063259\n"
     ]
    }
   ],
   "source": [
    "print(\"h_0 = \", v0)\n",
    "print(\"rho = \", rho)\n",
    "print(\"kappa = \", kappa + lambd)\n",
    "print(\"theta = \", kappa * theta / (kappa + lambd))\n",
    "print(\"xi = \", sigma)"
   ]
  },
  {
   "cell_type": "code",
   "execution_count": null,
   "id": "50de31fc-31cd-4986-b05a-42319f4cbcec",
   "metadata": {},
   "outputs": [],
   "source": []
  }
 ],
 "metadata": {
  "kernelspec": {
   "display_name": "Python 3",
   "language": "python",
   "name": "python3"
  },
  "language_info": {
   "codemirror_mode": {
    "name": "ipython",
    "version": 3
   },
   "file_extension": ".py",
   "mimetype": "text/x-python",
   "name": "python",
   "nbconvert_exporter": "python",
   "pygments_lexer": "ipython3",
   "version": "3.9.12"
  }
 },
 "nbformat": 4,
 "nbformat_minor": 5
}
