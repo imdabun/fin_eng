{
 "cells": [
  {
   "cell_type": "code",
   "execution_count": 1,
   "id": "27c4e62c-f29f-4dfc-8efa-f026d87df525",
   "metadata": {},
   "outputs": [],
   "source": [
    "import os\n",
    "import numpy as np\n",
    "import pandas as pd\n",
    "import matplotlib.pyplot as plt\n",
    "from scipy.integrate import quad\n",
    "from scipy.optimize import minimize "
   ]
  },
  {
   "cell_type": "code",
   "execution_count": 2,
   "id": "e5c72072-ff84-4a70-8c96-debf51dde908",
   "metadata": {},
   "outputs": [],
   "source": [
    "def heston_charfunc(phi, S0, v0, kappa, theta, sigma, rho, lambd, tau, r):\n",
    "    \n",
    "    # constants\n",
    "    a = kappa*theta\n",
    "    b = kappa+lambd\n",
    "    \n",
    "    # common terms w.r.t phi\n",
    "    rspi = rho*sigma*phi*1j\n",
    "    \n",
    "    # define d parameter given phi and b\n",
    "    d = np.sqrt( (rho*sigma*phi*1j - b)**2 + (phi*1j+phi**2)*sigma**2 )\n",
    "    \n",
    "    # define g parameter given phi, b and d\n",
    "    g = (b-rspi+d)/(b-rspi-d)\n",
    "    \n",
    "    # calculate characteristic function by components\n",
    "    exp1 = np.exp(r*phi*1j*tau)\n",
    "    term2 = S0**(phi*1j) * ( (1-g*np.exp(d*tau))/(1-g) )**(-2*a/sigma**2)\n",
    "    exp2 = np.exp(a*tau*(b-rspi+d)/sigma**2 + v0*(b-rspi+d)*( (1-np.exp(d*tau))/(1-g*np.exp(d*tau)) )/sigma**2)\n",
    "    return exp1*term2*exp2"
   ]
  },
  {
   "cell_type": "code",
   "execution_count": 3,
   "id": "f487442a-430e-4afd-91cb-4f9e30a42bc9",
   "metadata": {},
   "outputs": [],
   "source": [
    "def integrand(phi, S0, v0, kappa, theta, sigma, rho, lambd, tau, r):\n",
    "    args = (S0, v0, kappa, theta, sigma, rho, lambd, tau, r)\n",
    "    numerator = np.exp(r*tau)*heston_charfunc(phi-1j,*args) - K*heston_charfunc(phi,*args)\n",
    "    denominator = 1j*phi*K**(1j*phi)\n",
    "    return numerator/denominator"
   ]
  },
  {
   "cell_type": "code",
   "execution_count": 4,
   "id": "529c8cf4-6680-4faa-b146-e6bccb404e49",
   "metadata": {},
   "outputs": [],
   "source": [
    "def heston_price_rec(S0, K, v0, kappa, theta, sigma, rho, lambd, tau, r):\n",
    "    args = (S0, v0, kappa, theta, sigma, rho, lambd, tau, r)\n",
    "    \n",
    "    P, umax, N = 0, 100, 10000\n",
    "    dphi=umax/N #dphi is width\n",
    "    for i in range(1,N):\n",
    "        # rectangular integration\n",
    "        phi = dphi * (2*i + 1)/2 # midpoint to calculate height\n",
    "        numerator = np.exp(r*tau)*heston_charfunc(phi-1j,*args) - K * heston_charfunc(phi,*args)\n",
    "        denominator = 1j*phi*K**(1j*phi)\n",
    "        \n",
    "        P += dphi * numerator/denominator\n",
    "        \n",
    "    return np.real((S0 - K*np.exp(-r*tau))/2 + P/np.pi)"
   ]
  },
  {
   "cell_type": "code",
   "execution_count": 5,
   "id": "0a44101d-e0f2-4d5f-bdaf-710bd1d4243e",
   "metadata": {},
   "outputs": [],
   "source": [
    "def heston_price(S0, K, v0, kappa, theta, sigma, rho, lambd, tau, r):\n",
    "    args = (S0, v0, kappa, theta, sigma, rho, lambd, tau, r)\n",
    "    \n",
    "    real_integral, err = np.real( quad(integrand, 0, 100, args=args) )\n",
    "    \n",
    "    return (S0 - K*np.exp(-r*tau))/2 + real_integral/np.pi"
   ]
  },
  {
   "cell_type": "code",
   "execution_count": 6,
   "id": "78c35321-a255-4592-be15-ca28d65c5776",
   "metadata": {},
   "outputs": [
    {
     "name": "stderr",
     "output_type": "stream",
     "text": [
      "/home/gany/miniconda3/lib/python3.9/site-packages/scipy/integrate/quadpack.py:463: ComplexWarning: Casting complex values to real discards the imaginary part\n",
      "  return _quadpack._qagse(func,a,b,args,full_output,epsabs,epsrel,limit)\n"
     ]
    },
    {
     "data": {
      "text/plain": [
       "11.540361819355377"
      ]
     },
     "execution_count": 6,
     "metadata": {},
     "output_type": "execute_result"
    }
   ],
   "source": [
    "# Parameters to test model\n",
    "S0 = 100. # initial asset price\n",
    "K = 100. # strike\n",
    "v0 = 0.1 # initial variance\n",
    "r = 0.03 # risk free rate\n",
    "kappa = 1.5768 # rate of mean reversion of variance process\n",
    "theta = 0.0398 # long-term mean variance\n",
    "sigma = 0.3 # volatility of volatility\n",
    "lambd = 0.575 # risk premium of variance\n",
    "rho = -0.5711 # correlation between variance and stock process\n",
    "tau = 1. # time to maturity\n",
    "heston_price( S0, K, v0, kappa, theta, sigma, rho, lambd, tau, r )"
   ]
  },
  {
   "cell_type": "code",
   "execution_count": 7,
   "id": "b8a498ad-e98a-4c7a-ac98-9f31a47bb10c",
   "metadata": {},
   "outputs": [],
   "source": [
    "targets = {\n",
    "    1: {95: 6.5757, 100: 2.8223, 105: 0.6335},\n",
    "    2: {95: 8.1165, 100: 4.3850, 105: 1.7263},\n",
    "    3: {100: 6.0865, 105: 3.1820, 110: 1.2347},\n",
    "    4: {100: 7.7710, 105: 4.7369, 110: 2.4165}\n",
    "}"
   ]
  },
  {
   "cell_type": "code",
   "execution_count": 8,
   "id": "0b546b74-dd85-41a7-908e-81433ca0046a",
   "metadata": {},
   "outputs": [
    {
     "data": {
      "text/plain": [
       "[6.5757,\n",
       " 2.8223,\n",
       " 0.6335,\n",
       " 8.1165,\n",
       " 4.385,\n",
       " 1.7263,\n",
       " 6.0865,\n",
       " 3.182,\n",
       " 1.2347,\n",
       " 7.771,\n",
       " 4.7369,\n",
       " 2.4165]"
      ]
     },
     "execution_count": 8,
     "metadata": {},
     "output_type": "execute_result"
    }
   ],
   "source": [
    "[targets[q][s] for q in targets for s in targets[q] ]"
   ]
  },
  {
   "cell_type": "code",
   "execution_count": 9,
   "id": "7901a8bf-1e39-42d0-a5db-93cd05bb5d75",
   "metadata": {},
   "outputs": [
    {
     "data": {
      "text/plain": [
       "(0.009798545390357998,\n",
       " 0.23526828923160747,\n",
       " 0.002083669323856855,\n",
       " 0.02822227791725009,\n",
       " -4.740956803297627e-10,\n",
       " -1.0)"
      ]
     },
     "execution_count": 9,
     "metadata": {},
     "output_type": "execute_result"
    }
   ],
   "source": [
    "# This is the calibration function\n",
    "# heston_price(S0, K, v0, kappa, theta, sigma, rho, lambd, tau, r)\n",
    "# Parameters are v0, kappa, theta, sigma, rho, lambd\n",
    "# Define variables to be used in optimization\n",
    "S0 = 100\n",
    "r = 0.0411\n",
    "K = np.asarray([s for q in targets for s in targets[q]])\n",
    "tau = np.asarray([q*0.25 for q in targets for s in targets[q] ])\n",
    "P = np.asarray([targets[q][s] for q in targets for s in targets[q]])\n",
    "params = {\"v0\": {\"x0\": 0.1, \"lbub\": [1e-3,0.1]}, \n",
    "          \"kappa\": {\"x0\": 3, \"lbub\": [1e-3,5]},\n",
    "          \"theta\": {\"x0\": 0.05, \"lbub\": [1e-3,0.1]},\n",
    "          \"sigma\": {\"x0\": 0.3, \"lbub\": [1e-2,1]},\n",
    "          \"rho\": {\"x0\": -0.8, \"lbub\": [-1,0]},\n",
    "          \"lambd\": {\"x0\": 0.03, \"lbub\": [-1,1]},\n",
    "          }\n",
    "x0 = [param[\"x0\"] for key, param in params.items()]\n",
    "bnds = [param[\"lbub\"] for key, param in params.items()]\n",
    "\n",
    "def SqErr(x):\n",
    "    v0, kappa, theta, sigma, rho, lambd = [param for param in x]\n",
    "    err = np.sum( (P-heston_price_rec(S0, K, v0, kappa, theta, sigma, rho, lambd, tau, r))**2 /len(P) )\n",
    "    return err\n",
    "\n",
    "result = minimize(SqErr, x0, tol = 1e-3, method='SLSQP', options={'maxiter': 1e4 }, bounds=bnds)\n",
    "v0, kappa, theta, sigma, rho, lambd = [param for param in result.x]\n",
    "v0, kappa, theta, sigma, rho, lambd"
   ]
  },
  {
   "cell_type": "code",
   "execution_count": 10,
   "id": "18c72483-8867-4584-b84e-ff7960a2d023",
   "metadata": {},
   "outputs": [],
   "source": [
    "heston_prices = heston_price_rec(S0, K, v0, kappa, theta, sigma, rho, lambd, tau, r)"
   ]
  },
  {
   "cell_type": "code",
   "execution_count": 11,
   "id": "cddb72a8-b29b-403e-8bab-e6604c35d5eb",
   "metadata": {},
   "outputs": [
    {
     "data": {
      "text/plain": [
       "array([6.70099916, 2.73087334, 0.46174539, 8.43998377, 4.50375402,\n",
       "       1.70853762, 6.21680998, 3.14905559, 1.05463112, 7.94117526,\n",
       "       4.71240093, 2.28028868])"
      ]
     },
     "execution_count": 11,
     "metadata": {},
     "output_type": "execute_result"
    }
   ],
   "source": [
    "heston_prices"
   ]
  },
  {
   "cell_type": "code",
   "execution_count": 12,
   "id": "10f8e6ee-0854-48bd-a059-e545e09dcac2",
   "metadata": {},
   "outputs": [
    {
     "name": "stdout",
     "output_type": "stream",
     "text": [
      "h_0 =  0.009798545390357998\n",
      "rho =  -4.740956803297627e-10\n",
      "kappa =  -0.7647317107683925\n",
      "theta =  -0.0006410369940794198\n",
      "xi =  0.02822227791725009\n"
     ]
    }
   ],
   "source": [
    "print(\"h_0 = \", v0)\n",
    "print(\"rho = \", rho)\n",
    "print(\"kappa = \", kappa + lambd)\n",
    "print(\"theta = \", kappa * theta / (kappa + lambd))\n",
    "print(\"xi = \", sigma)"
   ]
  },
  {
   "cell_type": "code",
   "execution_count": null,
   "id": "50de31fc-31cd-4986-b05a-42319f4cbcec",
   "metadata": {},
   "outputs": [],
   "source": []
  }
 ],
 "metadata": {
  "kernelspec": {
   "display_name": "Python 3",
   "language": "python",
   "name": "python3"
  },
  "language_info": {
   "codemirror_mode": {
    "name": "ipython",
    "version": 3
   },
   "file_extension": ".py",
   "mimetype": "text/x-python",
   "name": "python",
   "nbconvert_exporter": "python",
   "pygments_lexer": "ipython3",
   "version": "3.9.12"
  }
 },
 "nbformat": 4,
 "nbformat_minor": 5
}
