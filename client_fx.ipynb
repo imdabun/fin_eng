{
 "cells": [
  {
   "cell_type": "code",
   "execution_count": 1,
   "id": "bcb642ca-b12e-4df7-8b6e-ffd22454cdb9",
   "metadata": {},
   "outputs": [],
   "source": [
    "import numpy as np\n",
    "import pandas as pd\n",
    "from matplotlib import pyplot as plt\n",
    "from scipy import optimize\n",
    "import math"
   ]
  },
  {
   "cell_type": "code",
   "execution_count": 2,
   "id": "3903ead4-eab9-4c4d-8f5e-83a0e0b9bab5",
   "metadata": {},
   "outputs": [],
   "source": [
    "YEAR = 52\n",
    "IR   = [0.0122, 0.0198, 0.0274, 0.0302, 0.035]\n",
    "dt = 1/YEAR\n",
    "ALPHA = 0.8\n",
    "SIGMA = 1.2\n",
    "h_0   = 0.0083696\n",
    "R     = 0.25\n",
    "N_SIM = 10000"
   ]
  },
  {
   "cell_type": "code",
   "execution_count": 3,
   "id": "8bb53a56-9cfa-431b-bd60-ea79e9bea06e",
   "metadata": {},
   "outputs": [],
   "source": [
    "IR_curve = [np.exp(-IR[1] * i / YEAR) for i in range(YEAR)] + \\\n",
    "           [np.exp(-IR[1]-IR[2] * i / YEAR) for i in range(YEAR)] + \\\n",
    "           [np.exp(-IR[1]-IR[2]-IR[3] * i / YEAR) for i in range(YEAR)] + \\\n",
    "           [np.exp(-IR[1]-IR[2]-IR[3]-IR[4] * i / YEAR) for i in range(YEAR)]\n",
    "\n",
    "Z = np.random.normal(size=(3 * YEAR, N_SIM))\n",
    "THETAS = [0.011852293096075071, 0.009040766594021893, 0.012600900100544096]\n",
    "THRESHOLD = 0.00448"
   ]
  },
  {
   "cell_type": "code",
   "execution_count": 4,
   "id": "1778a232-2f31-4865-8384-226027aeea69",
   "metadata": {},
   "outputs": [],
   "source": [
    "def discount(t, max_len):\n",
    "    return IR_curve[t] if t < max_len else 0\n",
    "\n",
    "def value(t, T, spread, R):\n",
    "    n_payments = t // YEAR + 1\n",
    "    return (1 - R) * discount(t, T) - sum([discount(i * YEAR, T) * spread for i in range(n_payments)])\n",
    "\n",
    "def simulate(Z, alpha, sigma, h_0, thetas): # thetas = [theta_1, theta_2]\n",
    "    # we have existing thetas, simulate for one more year\n",
    "    _, N = Z.shape\n",
    "    T = len(thetas) * YEAR\n",
    "    results = np.empty([T, N])\n",
    "    h_t  = np.full(N, h_0)\n",
    "    for i, theta in enumerate(thetas):\n",
    "        for j in range(YEAR):\n",
    "            t = i * YEAR + j\n",
    "            results[t, :] = h_t + alpha * (theta - h_t) * dt + sigma * h_t * math.sqrt(dt) * Z[t, :]\n",
    "            h_t = results[t, :]\n",
    "    return results\n",
    "\n",
    "def sim_defaults(results):\n",
    "    T, N = results.shape\n",
    "    bern = np.random.binomial(1, results*dt)\n",
    "    def default_fn(arr):\n",
    "        out = np.argmax(arr)\n",
    "        if out == 0 and arr[0] == 0:\n",
    "            return len(arr)\n",
    "        else: return out\n",
    "    return np.apply_along_axis(default_fn, 0, bern), T\n",
    "\n",
    "def rn_pricing(defaults, T, spread, R):\n",
    "    return np.array(list(map(lambda t: value(t, T, spread, R), defaults)))"
   ]
  },
  {
   "cell_type": "code",
   "execution_count": 5,
   "id": "b4520068-ca67-4103-9295-0a7b907789df",
   "metadata": {},
   "outputs": [],
   "source": [
    "# this gives a T x N matrix of simulated hazard rates\n",
    "results = simulate(Z, ALPHA, SIGMA, h_0, THETAS)\n",
    "\n",
    "# this turn hazard rates into actual default timesteps\n",
    "# note that if the output is exactly 3 * YEAR = 156, no default occured\n",
    "defaults, T = sim_defaults(results)\n",
    "\n",
    "# if you want to match a spread to the simulated defaults, do this\n",
    "spread = 0.0045\n",
    "pricing = rn_pricing(defaults, T, spread, R)\n",
    "\n",
    "# calibrate such that pricing is 0"
   ]
  },
  {
   "cell_type": "code",
   "execution_count": 6,
   "id": "2f3a22b3-09bb-4cbb-afef-3e16cdc9c244",
   "metadata": {},
   "outputs": [
    {
     "data": {
      "text/plain": [
       "array([[0.00892958, 0.00803796, 0.00950431, 0.00825475, 0.00725899],\n",
       "       [0.01011166, 0.00790212, 0.00982899, 0.00975852, 0.00715546],\n",
       "       [0.00652109, 0.00633581, 0.00952034, 0.00925546, 0.00776209],\n",
       "       [0.00686948, 0.00677091, 0.01028746, 0.00793392, 0.00766905],\n",
       "       [0.00658079, 0.00597369, 0.00878542, 0.00752967, 0.00578509],\n",
       "       [0.00642281, 0.0063853 , 0.01199456, 0.00759609, 0.00624467],\n",
       "       [0.00700541, 0.00763066, 0.01063758, 0.00601403, 0.00795553],\n",
       "       [0.00821646, 0.00530037, 0.01069456, 0.00670952, 0.00872765],\n",
       "       [0.00782892, 0.00554114, 0.00575345, 0.00867804, 0.00792654],\n",
       "       [0.00802931, 0.00457781, 0.00613666, 0.00934055, 0.00786277]])"
      ]
     },
     "execution_count": 6,
     "metadata": {},
     "output_type": "execute_result"
    }
   ],
   "source": [
    "results[:10,:5]"
   ]
  },
  {
   "cell_type": "code",
   "execution_count": 7,
   "id": "633d826c-7216-4c3c-bd12-8dc8e8d76980",
   "metadata": {},
   "outputs": [
    {
     "data": {
      "text/plain": [
       "array([156, 156, 156, 156, 156])"
      ]
     },
     "execution_count": 7,
     "metadata": {},
     "output_type": "execute_result"
    }
   ],
   "source": [
    "defaults[:5]"
   ]
  },
  {
   "cell_type": "code",
   "execution_count": 8,
   "id": "e6b72165-c671-48c1-9b5e-26a730e8e321",
   "metadata": {},
   "outputs": [
    {
     "data": {
      "text/plain": [
       "array([-0.01320431, -0.01320431, -0.01320431, -0.01320431, -0.01320431])"
      ]
     },
     "execution_count": 8,
     "metadata": {},
     "output_type": "execute_result"
    }
   ],
   "source": [
    "pricing[:5]"
   ]
  },
  {
   "cell_type": "code",
   "execution_count": null,
   "id": "99462a2a-fa06-41d2-9adb-b74b4d4e8caa",
   "metadata": {},
   "outputs": [],
   "source": []
  }
 ],
 "metadata": {
  "kernelspec": {
   "display_name": "Python 3",
   "language": "python",
   "name": "python3"
  },
  "language_info": {
   "codemirror_mode": {
    "name": "ipython",
    "version": 3
   },
   "file_extension": ".py",
   "mimetype": "text/x-python",
   "name": "python",
   "nbconvert_exporter": "python",
   "pygments_lexer": "ipython3",
   "version": "3.9.12"
  }
 },
 "nbformat": 4,
 "nbformat_minor": 5
}
